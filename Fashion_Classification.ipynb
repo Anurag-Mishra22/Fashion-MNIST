{
  "nbformat": 4,
  "nbformat_minor": 0,
  "metadata": {
    "colab": {
      "provenance": [],
      "authorship_tag": "ABX9TyOA10dKY88QXyYxkFxd1jKa",
      "include_colab_link": true
    },
    "kernelspec": {
      "name": "python3",
      "display_name": "Python 3"
    },
    "language_info": {
      "name": "python"
    }
  },
  "cells": [
    {
      "cell_type": "markdown",
      "metadata": {
        "id": "view-in-github",
        "colab_type": "text"
      },
      "source": [
        "<a href=\"https://colab.research.google.com/github/Anurag-Mishra22/Fashion-MNIST/blob/main/Fashion_Classification.ipynb\" target=\"_parent\"><img src=\"https://colab.research.google.com/assets/colab-badge.svg\" alt=\"Open In Colab\"/></a>"
      ]
    },
    {
      "cell_type": "markdown",
      "source": [
        "## Fashion Classification"
      ],
      "metadata": {
        "id": "sp7v7_O7rB3o"
      }
    },
    {
      "cell_type": "markdown",
      "source": [
        "\n",
        " Import Libraries"
      ],
      "metadata": {
        "id": "KZbmzm48rPe8"
      }
    },
    {
      "cell_type": "code",
      "source": [
        "import tensorflow as tf\n",
        "from tensorflow import keras\n",
        "import numpy as np\n",
        "import pandas as pd\n",
        "import matplotlib.pyplot as plt\n",
        "import seaborn as sns"
      ],
      "metadata": {
        "id": "Fu1jhfNRrdxe"
      },
      "execution_count": 2,
      "outputs": []
    },
    {
      "cell_type": "markdown",
      "source": [
        "Load Data"
      ],
      "metadata": {
        "id": "90icxnwAr98z"
      }
    },
    {
      "cell_type": "code",
      "source": [
        "(X_train,y_train),(X_test,y_test) = keras.datasets.fashion_mnist.load_data()"
      ],
      "metadata": {
        "colab": {
          "base_uri": "https://localhost:8080/"
        },
        "id": "fNEi8m75szM2",
        "outputId": "cda76fea-89cd-4cd0-fc1b-4fb3987921bf"
      },
      "execution_count": 3,
      "outputs": [
        {
          "output_type": "stream",
          "name": "stdout",
          "text": [
            "Downloading data from https://storage.googleapis.com/tensorflow/tf-keras-datasets/train-labels-idx1-ubyte.gz\n",
            "29515/29515 [==============================] - 0s 0us/step\n",
            "Downloading data from https://storage.googleapis.com/tensorflow/tf-keras-datasets/train-images-idx3-ubyte.gz\n",
            "26421880/26421880 [==============================] - 0s 0us/step\n",
            "Downloading data from https://storage.googleapis.com/tensorflow/tf-keras-datasets/t10k-labels-idx1-ubyte.gz\n",
            "5148/5148 [==============================] - 0s 0us/step\n",
            "Downloading data from https://storage.googleapis.com/tensorflow/tf-keras-datasets/t10k-images-idx3-ubyte.gz\n",
            "4422102/4422102 [==============================] - 0s 0us/step\n"
          ]
        }
      ]
    },
    {
      "cell_type": "code",
      "source": [
        "X_train.shape,y_train.shape"
      ],
      "metadata": {
        "colab": {
          "base_uri": "https://localhost:8080/"
        },
        "id": "LdrV-08ut7OZ",
        "outputId": "a6f3f076-dc45-4c0a-9ead-f22c33f85144"
      },
      "execution_count": 4,
      "outputs": [
        {
          "output_type": "execute_result",
          "data": {
            "text/plain": [
              "((60000, 28, 28), (60000,))"
            ]
          },
          "metadata": {},
          "execution_count": 4
        }
      ]
    },
    {
      "cell_type": "code",
      "source": [
        "X_test.shape,y_test.shape"
      ],
      "metadata": {
        "colab": {
          "base_uri": "https://localhost:8080/"
        },
        "id": "FkldD21VuEBy",
        "outputId": "109d4c45-b8a5-46b2-f4f2-d0381d422334"
      },
      "execution_count": 5,
      "outputs": [
        {
          "output_type": "execute_result",
          "data": {
            "text/plain": [
              "((10000, 28, 28), (10000,))"
            ]
          },
          "metadata": {},
          "execution_count": 5
        }
      ]
    },
    {
      "cell_type": "code",
      "source": [
        "X_train[0]"
      ],
      "metadata": {
        "colab": {
          "base_uri": "https://localhost:8080/"
        },
        "id": "CFtGRmBnuP5o",
        "outputId": "0b9c99ea-216b-418c-e770-c0c3f06f62dc"
      },
      "execution_count": 7,
      "outputs": [
        {
          "output_type": "execute_result",
          "data": {
            "text/plain": [
              "array([[  0,   0,   0,   0,   0,   0,   0,   0,   0,   0,   0,   0,   0,\n",
              "         53,  70,  30,   0,   0,   0,   0,   0,   0,   0,   0,   0,   0,\n",
              "          0,   0],\n",
              "       [  0,   0,   0,   0,   0,   0,   0,   0,   0,   0,  83, 223, 220,\n",
              "        231, 233, 231, 218, 191,  33,   0,   0,   1,   0,   0,   0,   0,\n",
              "          0,   0],\n",
              "       [  0,   0,   0,   0,   0,   0,   0,   0,   0, 142, 248, 228, 215,\n",
              "        217, 219, 219, 220, 235, 234, 107,   0,   0,   1,   0,   0,   0,\n",
              "          0,   0],\n",
              "       [  0,   0,   0,   0,   0,   0,   3,   0,  69, 245, 221, 229, 213,\n",
              "        219, 206, 210, 217, 222, 218, 243,  64,   0,   4,   0,   0,   0,\n",
              "          0,   0],\n",
              "       [  0,   0,   0,   0,   0,   0,   0,   0, 116, 231, 224, 230, 222,\n",
              "        217, 222, 224, 215, 215, 222, 219,   0,   0,   0,   0,   0,   0,\n",
              "          0,   0],\n",
              "       [  0,   0,   0,   0,   1,   0,   0, 193, 238, 216, 222, 218, 213,\n",
              "        211, 208, 210, 217, 224, 217, 222, 169,   0,   0,   0,   0,   0,\n",
              "          0,   0],\n",
              "       [  0,   0,   0,   0,   2,   0,  66, 230, 210, 217, 217, 212, 214,\n",
              "        224, 221, 216, 212, 214, 218, 212, 236, 115,   0,   2,   0,   0,\n",
              "          0,   0],\n",
              "       [  0,   0,   0,   0,   0,   0, 167, 227, 212, 216, 222, 222, 220,\n",
              "        219, 217, 216, 216, 219, 221, 217, 221, 188,   0,   0,   0,   0,\n",
              "          0,   0],\n",
              "       [  0,   0,   0,   0,   0,   0, 220, 223, 219, 217, 215, 216, 216,\n",
              "        216, 215, 218, 220, 216, 218, 213, 216, 193,   0,   0,   0,   0,\n",
              "          0,   0],\n",
              "       [  0,   0,   0,   0,   0,   0, 208, 223, 227, 216, 215, 214, 215,\n",
              "        211, 213, 217, 211, 214, 209, 218, 208, 212,  20,   0,   0,   0,\n",
              "          0,   0],\n",
              "       [  0,   0,   0,   0,   0,  29, 222, 218, 234, 221, 211, 211, 212,\n",
              "        207, 211, 214, 210, 210, 207, 233, 207, 222,  63,   0,   0,   0,\n",
              "          0,   0],\n",
              "       [  0,   0,   0,   0,   0,  74, 228, 217, 236, 222, 209, 209, 210,\n",
              "        209, 218, 211, 210, 206, 211, 236, 207, 224, 128,   0,   0,   0,\n",
              "          0,   0],\n",
              "       [  0,   0,   0,   0,   0, 128, 228, 220, 239, 219, 214, 210, 215,\n",
              "        205, 201, 215, 211, 209, 211, 243, 215, 222, 164,   0,   0,   0,\n",
              "          0,   0],\n",
              "       [  0,   0,   0,   0,   0, 163, 224, 220, 242, 221, 213, 211, 215,\n",
              "        210, 212, 210, 213, 211, 212, 247, 220, 220, 205,   0,   0,   0,\n",
              "          0,   0],\n",
              "       [  0,   0,   0,   0,   0, 193, 222, 218, 246, 229, 212, 211, 217,\n",
              "        212, 211, 211, 212, 213, 212, 251, 219, 215, 236,   0,   0,   0,\n",
              "          0,   0],\n",
              "       [  0,   0,   0,   0,   0, 220, 219, 216, 242, 231, 216, 211, 219,\n",
              "        209, 210, 209, 208, 213, 216, 222, 223, 214, 250,   0,   0,   0,\n",
              "          0,   0],\n",
              "       [  0,   0,   0,   0,   0, 238, 216, 219, 242, 221, 220, 214, 222,\n",
              "        213, 216, 213, 210, 212, 231, 113, 227, 217, 250,  25,   0,   0,\n",
              "          0,   0],\n",
              "       [  0,   0,   0,   0,   0, 248, 211, 236, 180, 218, 225, 212, 219,\n",
              "        214, 214, 214, 210, 204, 241, 114, 207, 220, 245,  55,   0,   0,\n",
              "          0,   0],\n",
              "       [  0,   0,   0,   0,   5, 252, 214, 225, 150, 234, 222, 215, 215,\n",
              "        219, 219, 215, 212, 208, 230, 163, 197, 220, 243,  78,   0,   0,\n",
              "          0,   0],\n",
              "       [  0,   0,   0,   0,  27, 250, 217, 200, 181, 232, 214, 218, 221,\n",
              "        204, 207, 216, 215, 208, 212, 208, 215, 217, 241,  91,   0,   0,\n",
              "          0,   0],\n",
              "       [  0,   0,   0,   0,  48, 251, 219, 189, 205, 229, 224, 216, 220,\n",
              "        221, 216, 215, 214, 214, 211, 210, 223, 210, 235, 100,   0,   0,\n",
              "          0,   0],\n",
              "       [  0,   0,   0,   0,  69, 254, 214, 226, 228, 216, 221, 219, 217,\n",
              "        219, 218, 216, 215, 215, 210, 211, 230, 210, 231, 116,   0,   0,\n",
              "          0,   0],\n",
              "       [  0,   0,   0,   0,  96, 250, 205, 243, 223, 215, 222, 218, 215,\n",
              "        219, 220, 216, 217, 215, 212, 208, 232, 221, 225, 133,   0,   0,\n",
              "          0,   0],\n",
              "       [  0,   0,   0,   0, 106, 246, 207, 239, 222, 216, 221, 219, 218,\n",
              "        220, 220, 214, 215, 213, 211, 208, 230, 225, 224, 144,   0,   0,\n",
              "          0,   0],\n",
              "       [  0,   0,   0,   0, 135, 222, 216, 234, 222, 216, 217, 218, 219,\n",
              "        226, 224, 217, 218, 216, 214, 210, 231, 226, 226, 144,   0,   0,\n",
              "          0,   0],\n",
              "       [  0,   0,   0,   0, 174, 220, 211, 228, 224, 214, 208, 212, 212,\n",
              "        219, 221, 214, 214, 209, 207, 208, 224, 224, 212, 136,   0,   0,\n",
              "          0,   0],\n",
              "       [  0,   0,   0,   0, 198, 223, 240, 194, 255, 255, 255, 255, 245,\n",
              "        233, 242, 248, 250, 252, 252, 255, 254, 227, 255, 198,   0,   0,\n",
              "          0,   0],\n",
              "       [  0,   0,   0,   0,   0,  24,   8,   0,  32,  73, 101, 114, 148,\n",
              "        172, 164, 142, 130, 114, 108,  66,   1, 139, 131,  58,   0,   0,\n",
              "          0,   0]], dtype=uint8)"
            ]
          },
          "metadata": {},
          "execution_count": 7
        }
      ]
    },
    {
      "cell_type": "code",
      "source": [
        "y_train[0]"
      ],
      "metadata": {
        "colab": {
          "base_uri": "https://localhost:8080/"
        },
        "id": "ySJQmSafuYqE",
        "outputId": "0b3c7c7a-f8bb-4ded-ef7b-87cabe5f2a34"
      },
      "execution_count": 8,
      "outputs": [
        {
          "output_type": "execute_result",
          "data": {
            "text/plain": [
              "9"
            ]
          },
          "metadata": {},
          "execution_count": 8
        }
      ]
    },
    {
      "cell_type": "code",
      "source": [
        "plt.imshow(X_train[0],cmap=\"Greys\")"
      ],
      "metadata": {
        "colab": {
          "base_uri": "https://localhost:8080/",
          "height": 447
        },
        "id": "is0pmV4IvaNb",
        "outputId": "d3d412ff-b472-4a1f-b5d4-4ca2be12b537"
      },
      "execution_count": 11,
      "outputs": [
        {
          "output_type": "execute_result",
          "data": {
            "text/plain": [
              "<matplotlib.image.AxesImage at 0x7d15049d59f0>"
            ]
          },
          "metadata": {},
          "execution_count": 11
        },
        {
          "output_type": "display_data",
          "data": {
            "text/plain": [
              "<Figure size 640x480 with 1 Axes>"
            ],
            "image/png": "[encoded data removed]"
          },
          "metadata": {}
        }
      ]
    },
    {
      "cell_type": "markdown",
      "source": [
        "Feature Scaling"
      ],
      "metadata": {
        "id": "AFkyZ71Kvs74"
      }
    },
    {
      "cell_type": "code",
      "source": [
        "X_train = X_train/255\n",
        "X_test = X_test/255\n"
      ],
      "metadata": {
        "id": "UJfvEpPFwphH"
      },
      "execution_count": 13,
      "outputs": []
    },
    {
      "cell_type": "markdown",
      "source": [
        "Build Neural Network"
      ],
      "metadata": {
        "id": "Oes5n7BG1Pp4"
      }
    },
    {
      "cell_type": "code",
      "source": [
        "model =keras.models.Sequential([\n",
        "    keras.layers.Flatten(input_shape=[28,28]),\n",
        "    keras.layers.Dense(units=32, activation='relu'),\n",
        "    keras.layers.Dense(units = 10, activation='softmax')\n",
        "])\n"
      ],
      "metadata": {
        "id": "yu5uqoxI1ccX"
      },
      "execution_count": 15,
      "outputs": []
    },
    {
      "cell_type": "code",
      "source": [
        "model.summary()"
      ],
      "metadata": {
        "colab": {
          "base_uri": "https://localhost:8080/"
        },
        "id": "rspO5iI86MIz",
        "outputId": "c48d4bfd-a1db-4082-d814-86139df8c889"
      },
      "execution_count": 17,
      "outputs": [
        {
          "output_type": "stream",
          "name": "stdout",
          "text": [
            "Model: \"sequential_1\"\n",
            "_________________________________________________________________\n",
            " Layer (type)                Output Shape              Param #   \n",
            "=================================================================\n",
            " flatten_1 (Flatten)         (None, 784)               0         \n",
            "                                                                 \n",
            " dense_2 (Dense)             (None, 32)                25120     \n",
            "                                                                 \n",
            " dense_3 (Dense)             (None, 10)                330       \n",
            "                                                                 \n",
            "=================================================================\n",
            "Total params: 25,450\n",
            "Trainable params: 25,450\n",
            "Non-trainable params: 0\n",
            "_________________________________________________________________\n"
          ]
        }
      ]
    },
    {
      "cell_type": "code",
      "source": [
        "# Now we compile model\n",
        "model.compile(optimizer='adam',loss='sparse_categorical_crossentropy',metrics=['accuracy'])"
      ],
      "metadata": {
        "id": "usxqUA3l6S6w"
      },
      "execution_count": 18,
      "outputs": []
    },
    {
      "cell_type": "code",
      "source": [
        "# Now we train our neural network\n",
        "model.fit(X_train,y_train,epochs=10)"
      ],
      "metadata": {
        "colab": {
          "base_uri": "https://localhost:8080/"
        },
        "id": "xAk5qPr37Dlz",
        "outputId": "ec9a07b5-8228-41a8-b528-e3ccedb5a9f5"
      },
      "execution_count": 21,
      "outputs": [
        {
          "output_type": "stream",
          "name": "stdout",
          "text": [
            "Epoch 1/10\n",
            "1875/1875 [==============================] - 3s 2ms/step - loss: 0.5918 - accuracy: 0.7885\n",
            "Epoch 2/10\n",
            "1875/1875 [==============================] - 3s 2ms/step - loss: 0.5705 - accuracy: 0.7960\n",
            "Epoch 3/10\n",
            "1875/1875 [==============================] - 4s 2ms/step - loss: 0.5528 - accuracy: 0.8033\n",
            "Epoch 4/10\n",
            "1875/1875 [==============================] - 3s 2ms/step - loss: 0.5373 - accuracy: 0.8092\n",
            "Epoch 5/10\n",
            "1875/1875 [==============================] - 3s 2ms/step - loss: 0.5239 - accuracy: 0.8151\n",
            "Epoch 6/10\n",
            "1875/1875 [==============================] - 4s 2ms/step - loss: 0.5121 - accuracy: 0.8192\n",
            "Epoch 7/10\n",
            "1875/1875 [==============================] - 4s 2ms/step - loss: 0.5017 - accuracy: 0.8225\n",
            "Epoch 8/10\n",
            "1875/1875 [==============================] - 3s 2ms/step - loss: 0.4928 - accuracy: 0.8274\n",
            "Epoch 9/10\n",
            "1875/1875 [==============================] - 3s 2ms/step - loss: 0.4851 - accuracy: 0.8301\n",
            "Epoch 10/10\n",
            "1875/1875 [==============================] - 4s 2ms/step - loss: 0.4781 - accuracy: 0.8324\n"
          ]
        },
        {
          "output_type": "execute_result",
          "data": {
            "text/plain": [
              "<keras.callbacks.History at 0x7d15071a7b80>"
            ]
          },
          "metadata": {},
          "execution_count": 21
        }
      ]
    },
    {
      "cell_type": "markdown",
      "source": [
        "Test and Evaluate Neural Network Model"
      ],
      "metadata": {
        "id": "8jOxh8B-7qWP"
      }
    },
    {
      "cell_type": "code",
      "source": [
        "model.evaluate(X_test,y_test)"
      ],
      "metadata": {
        "colab": {
          "base_uri": "https://localhost:8080/"
        },
        "id": "WYjTbzD08P-2",
        "outputId": "3230715f-3b7b-4246-e45c-52da22a9cbf4"
      },
      "execution_count": 22,
      "outputs": [
        {
          "output_type": "stream",
          "name": "stdout",
          "text": [
            "313/313 [==============================] - 1s 2ms/step - loss: 0.5042 - accuracy: 0.8190\n"
          ]
        },
        {
          "output_type": "execute_result",
          "data": {
            "text/plain": [
              "[0.504226803779602, 0.8190000057220459]"
            ]
          },
          "metadata": {},
          "execution_count": 22
        }
      ]
    },
    {
      "cell_type": "code",
      "source": [
        "y_pred = model.predict(X_test)"
      ],
      "metadata": {
        "colab": {
          "base_uri": "https://localhost:8080/"
        },
        "id": "9gvu9la38WDa",
        "outputId": "abbf6ce9-2fa3-47b5-a7aa-080a7d3ba096"
      },
      "execution_count": 23,
      "outputs": [
        {
          "output_type": "stream",
          "name": "stdout",
          "text": [
            "313/313 [==============================] - 1s 3ms/step\n"
          ]
        }
      ]
    },
    {
      "cell_type": "code",
      "source": [
        "y_pred[0].round(2)"
      ],
      "metadata": {
        "colab": {
          "base_uri": "https://localhost:8080/"
        },
        "id": "reT5Fu2X8lLt",
        "outputId": "46e4e33a-e24e-47aa-b9ab-f006cf9c1501"
      },
      "execution_count": 25,
      "outputs": [
        {
          "output_type": "execute_result",
          "data": {
            "text/plain": [
              "array([0.  , 0.  , 0.  , 0.  , 0.  , 0.14, 0.  , 0.38, 0.  , 0.47],\n",
              "      dtype=float32)"
            ]
          },
          "metadata": {},
          "execution_count": 25
        }
      ]
    },
    {
      "cell_type": "code",
      "source": [
        "np.argmax(y_pred[0].round(2))"
      ],
      "metadata": {
        "colab": {
          "base_uri": "https://localhost:8080/"
        },
        "id": "Hzv8eTNl8oZY",
        "outputId": "2c3a7942-72b7-4a77-8cf9-a0f5d250f80c"
      },
      "execution_count": 26,
      "outputs": [
        {
          "output_type": "execute_result",
          "data": {
            "text/plain": [
              "9"
            ]
          },
          "metadata": {},
          "execution_count": 26
        }
      ]
    },
    {
      "cell_type": "code",
      "source": [
        "y_test[0]"
      ],
      "metadata": {
        "colab": {
          "base_uri": "https://localhost:8080/"
        },
        "id": "ppuJOleZ810p",
        "outputId": "6c007ca2-401b-4eaa-a01e-8eff2f2130a5"
      },
      "execution_count": 27,
      "outputs": [
        {
          "output_type": "execute_result",
          "data": {
            "text/plain": [
              "9"
            ]
          },
          "metadata": {},
          "execution_count": 27
        }
      ]
    },
    {
      "cell_type": "markdown",
      "source": [
        "Confusion Matrix"
      ],
      "metadata": {
        "id": "evgzj6yv9ACW"
      }
    },
    {
      "cell_type": "code",
      "source": [
        "from sklearn.metrics import confusion_matrix\n",
        "cm = confusion_matrix(y_test,[np.argmax(i) for i in y_pred])     #(actual_value,predicted_value)\n"
      ],
      "metadata": {
        "id": "QcC_Sumo9_Ho"
      },
      "execution_count": 29,
      "outputs": []
    },
    {
      "cell_type": "code",
      "source": [
        "plt.figure(figsize=(16,9))\n",
        "sns.heatmap(cm,annot=True,fmt=\"d\")"
      ],
      "metadata": {
        "colab": {
          "base_uri": "https://localhost:8080/",
          "height": 764
        },
        "id": "d6tiKVRM-XwE",
        "outputId": "aa7d916d-7b14-405c-eedc-cf46c00631d5"
      },
      "execution_count": 30,
      "outputs": [
        {
          "output_type": "execute_result",
          "data": {
            "text/plain": [
              "<Axes: >"
            ]
          },
          "metadata": {},
          "execution_count": 30
        },
        {
          "output_type": "display_data",
          "data": {
            "text/plain": [
              "<Figure size 1600x900 with 2 Axes>"
            ],
            "image/png": "[encoded data removed]"
          },
          "metadata": {}
        }
      ]
    },
    {
      "cell_type": "markdown",
      "source": [
        "Classification Report"
      ],
      "metadata": {
        "id": "dDXHHsIt-rAO"
      }
    },
    {
      "cell_type": "code",
      "source": [
        "from sklearn.metrics import classification_report\n",
        "cr=classification_report(y_test,[np.argmax(i) for i in y_pred],)\n",
        "print(cr)"
      ],
      "metadata": {
        "colab": {
          "base_uri": "https://localhost:8080/"
        },
        "id": "YQLU3PeN_CKl",
        "outputId": "4f3e6f12-c9e5-403d-b44d-74f83e3b338b"
      },
      "execution_count": 34,
      "outputs": [
        {
          "output_type": "stream",
          "name": "stdout",
          "text": [
            "              precision    recall  f1-score   support\n",
            "\n",
            "           0       0.76      0.83      0.80      1000\n",
            "           1       0.97      0.95      0.96      1000\n",
            "           2       0.72      0.69      0.71      1000\n",
            "           3       0.82      0.84      0.83      1000\n",
            "           4       0.70      0.74      0.72      1000\n",
            "           5       0.90      0.90      0.90      1000\n",
            "           6       0.58      0.49      0.53      1000\n",
            "           7       0.88      0.88      0.88      1000\n",
            "           8       0.92      0.95      0.94      1000\n",
            "           9       0.90      0.92      0.91      1000\n",
            "\n",
            "    accuracy                           0.82     10000\n",
            "   macro avg       0.82      0.82      0.82     10000\n",
            "weighted avg       0.82      0.82      0.82     10000\n",
            "\n"
          ]
        }
      ]
    },
    {
      "cell_type": "markdown",
      "source": [
        "Save Model"
      ],
      "metadata": {
        "id": "pvMfuDCw_dyy"
      }
    },
    {
      "cell_type": "code",
      "source": [
        "model.save(\"MNIST_classifier_nn_model.h5\")"
      ],
      "metadata": {
        "id": "n8Lx8rOV_4Da"
      },
      "execution_count": 35,
      "outputs": []
    },
    {
      "cell_type": "code",
      "source": [
        "model =keras.models.load_model(\"MNIST_classifier_nn_model.h5\")"
      ],
      "metadata": {
        "id": "RhVtHFzn__EH"
      },
      "execution_count": 36,
      "outputs": []
    },
    {
      "cell_type": "code",
      "source": [
        "model.predict(X_test)"
      ],
      "metadata": {
        "colab": {
          "base_uri": "https://localhost:8080/"
        },
        "id": "RGwGOWiXAOIj",
        "outputId": "a5da6524-79a5-422f-874d-74f308918eff"
      },
      "execution_count": 37,
      "outputs": [
        {
          "output_type": "stream",
          "name": "stdout",
          "text": [
            "313/313 [==============================] - 1s 2ms/step\n"
          ]
        },
        {
          "output_type": "execute_result",
          "data": {
            "text/plain": [
              "array([[2.64132780e-07, 3.95728463e-08, 3.58239868e-06, ...,\n",
              "        3.82927358e-01, 3.27613973e-03, 4.72624928e-01],\n",
              "       [3.20743507e-04, 8.47361116e-06, 9.15666878e-01, ...,\n",
              "        1.18488017e-14, 1.37438867e-04, 4.90521124e-10],\n",
              "       [1.03139355e-05, 9.99877989e-01, 2.22791841e-05, ...,\n",
              "        2.18783525e-09, 9.72612324e-10, 4.97929233e-11],\n",
              "       ...,\n",
              "       [2.30950247e-02, 2.92153709e-06, 1.14097085e-03, ...,\n",
              "        3.26942281e-05, 8.78310442e-01, 2.40660484e-05],\n",
              "       [7.17040093e-05, 9.91931319e-01, 2.14741958e-04, ...,\n",
              "        3.59041132e-06, 1.48741506e-07, 3.86054893e-07],\n",
              "       [1.06061489e-04, 1.28628351e-04, 9.17158497e-04, ...,\n",
              "        2.83408672e-01, 1.70664284e-02, 1.71474963e-02]], dtype=float32)"
            ]
          },
          "metadata": {},
          "execution_count": 37
        }
      ]
    },
    {
      "cell_type": "code",
      "source": [],
      "metadata": {
        "id": "DzY8ZpNcAVlN"
      },
      "execution_count": null,
      "outputs": []
    }
  ]
}